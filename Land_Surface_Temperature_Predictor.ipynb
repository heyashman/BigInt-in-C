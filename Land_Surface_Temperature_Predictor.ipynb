{
  "nbformat": 4,
  "nbformat_minor": 0,
  "metadata": {
    "colab": {
      "provenance": [],
      "authorship_tag": "ABX9TyP1hyVPlyvn7DYH8/U2solz",
      "include_colab_link": true
    },
    "kernelspec": {
      "name": "python3",
      "display_name": "Python 3"
    },
    "language_info": {
      "name": "python"
    }
  },
  "cells": [
    {
      "cell_type": "markdown",
      "metadata": {
        "id": "view-in-github",
        "colab_type": "text"
      },
      "source": [
        "<a href=\"https://colab.research.google.com/github/heyashman/BigInt-in-C/blob/main/Land_Surface_Temperature_Predictor.ipynb\" target=\"_parent\"><img src=\"https://colab.research.google.com/assets/colab-badge.svg\" alt=\"Open In Colab\"/></a>"
      ]
    },
    {
      "cell_type": "code",
      "execution_count": null,
      "metadata": {
        "colab": {
          "base_uri": "https://localhost:8080/"
        },
        "id": "Fw6xOZCR32Yz",
        "outputId": "ae467f13-f48d-417e-ec29-796783bdeba4"
      },
      "outputs": [
        {
          "output_type": "stream",
          "name": "stdout",
          "text": [
            "Enter 'export' to export the graph or enter a year to predict its temperature: 2030\n",
            "The 2030 predicted Average Earth Land Temperature is 9.432°C\n"
          ]
        },
        {
          "output_type": "stream",
          "name": "stderr",
          "text": [
            "/usr/local/lib/python3.10/dist-packages/sklearn/base.py:493: UserWarning: X does not have valid feature names, but LinearRegression was fitted with feature names\n",
            "  warnings.warn(\n"
          ]
        }
      ],
      "source": [
        "import re\n",
        "import sys\n",
        "import pandas as pd\n",
        "import matplotlib.pyplot as plt\n",
        "import seaborn as sns\n",
        "from sklearn.linear_model import LinearRegression\n",
        "\n",
        "raw_df = pd.read_csv('/GlobalTemperatures.csv')\n",
        "raw_df = raw_df[pd.notnull(raw_df['LandAverageTemperature'])]\n",
        "\n",
        "START_YEAR = 1860\n",
        "END_YEAR = int(re.split('-', raw_df.iloc[-1]['dt'])[0])\n",
        "\n",
        "new_rows = []\n",
        "for year in range(START_YEAR, END_YEAR + 1):\n",
        "    all_rows_for_year = raw_df[raw_df['dt'].str.contains(str(year))]['LandAverageTemperature']\n",
        "    average_temperature = all_rows_for_year.mean()\n",
        "    new_rows.append([year, average_temperature])\n",
        "\n",
        "processed_df = pd.DataFrame(new_rows, columns=['year', 'average_temperature'])\n",
        "processed_df = processed_df[pd.notnull(processed_df['average_temperature'])]\n",
        "\n",
        "lm = LinearRegression()\n",
        "lm.fit(X=processed_df.drop('average_temperature', axis=1), y=processed_df['average_temperature'])\n",
        "\n",
        "def predict_temperature(year):\n",
        "    if year <= END_YEAR:\n",
        "        print(f'Year must be larger than {END_YEAR}.')\n",
        "    else:\n",
        "        value = round(lm.predict([[year]])[0], 3)\n",
        "        print(f'The {year} predicted Average Earth Land Temperature is {value}°C')\n",
        "\n",
        "def export_graph():\n",
        "    plt.figure(figsize=(10, 5))\n",
        "    fig = sns.lineplot(x=processed_df['year'], y=processed_df['average_temperature']).get_figure()\n",
        "    fig.savefig('ayelt.png')\n",
        "    print(\"Graph exported successfully as 'ayelt.png'\")\n",
        "\n",
        "if __name__ == '__main__':\n",
        "    user_input = input(\"Enter 'export' to export the graph or enter a year to predict its temperature: \")\n",
        "    if user_input.lower() == 'export':\n",
        "        export_graph()\n",
        "    else:\n",
        "        try:\n",
        "            year = int(user_input)\n",
        "            predict_temperature(year)\n",
        "        except ValueError:\n",
        "            print('Year must be an integer')\n"
      ]
    }
  ]
}